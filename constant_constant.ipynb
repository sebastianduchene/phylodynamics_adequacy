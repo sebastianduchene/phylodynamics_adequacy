{
 "cells": [
  {
   "cell_type": "code",
   "execution_count": 1,
   "metadata": {
    "collapsed": false
   },
   "outputs": [
    {
     "name": "stderr",
     "output_type": "stream",
     "text": [
      "Loading required package: ape\n",
      "Loading required package: Matrix\n",
      "Loading required package: subplex\n",
      "Loading required package: TreeSim\n",
      "Loading required package: laser\n",
      "Loading required package: geiger\n",
      "Loading required package: deSolve\n",
      "\n",
      "Attaching package: ‘deSolve’\n",
      "\n",
      "The following object is masked from ‘package:graphics’:\n",
      "\n",
      "    matplot\n",
      "\n",
      "Loading required package: foreach\n",
      "Loading required package: iterators\n",
      "Loading required package: parallel\n"
     ]
    }
   ],
   "source": [
    "library(TreePar)\n",
    "library(TreeSim)\n",
    "library(NELSI)\n",
    "library(doParallel)\n",
    "library(foreach)"
   ]
  },
  {
   "cell_type": "markdown",
   "metadata": {
    "collapsed": false
   },
   "source": [
    "## Diversification model adequacy\n",
    "\n",
    "This is the most trivial example. I simulate a tree under constant speciation and extinction rates, refered to here as the 'reference' tree. I fit a rate shift model to estimate speciation and extinction rates for 0 rate shifts (i.e. constant rates). Using the speciation and extiction estimates from this model, I simulate a set of trees without rate shifts. For each simulated tree, I find the maximum likelihood under the model used to generate them (that with 0 rate shifts), resulting in a null distribution of the likelihood, under the 'correct' model. I calculate the *P* value of the likelihood of the 'reference' tree under the null likelihood of each of the models. I repeat this procedure 100 times and record each of the *P* values."
   ]
  },
  {
   "cell_type": "code",
   "execution_count": 2,
   "metadata": {
    "collapsed": false
   },
   "outputs": [],
   "source": [
    "set.seed(1234)\n",
    "nspecies <- 100\n",
    "rho <- 0.5\n",
    "lambda <- 3\n",
    "mu <- 1.5\n",
    "\n",
    "constant_rates_trees <- sim.bd.taxa(n = nspecies, numbsim = 100, lambda = lambda, mu = mu, frac = rho, complete = F)\n",
    "\n",
    "\n",
    "\n",
    "#set.seed(10)\n",
    "#nspecies <- 100\n",
    "#time <- c(0, 0.5, 1) # At time 1 in the past, there is a rate shift\n",
    "#rho <- c(0.5, 1, 1) #half of the present day species are sampled (rho[1] = 0.5)\n",
    "#lambda <- c(1.5, 10, 5)# speciation rates, between t[i] and t[i+1] we have a speciation rate lambda\n",
    "#mu <- c(1.5, 1.5, 1.5)# extinction rate. Similar notation as lambda\n",
    "\n",
    "#Simulate a tree with a single rate shift\n",
    "#constant_rates_trees <- sim.rateshift.taxa(nspecies, 1, lambda = lambda, mu = mu, frac = rho, times = time, complete = F)\n"
   ]
  },
  {
   "cell_type": "code",
   "execution_count": 3,
   "metadata": {
    "collapsed": false
   },
   "outputs": [],
   "source": [
    "fit_rate_shifts <- function(tree, rho){ # Rho at present.\n",
    "\n",
    "    x_times <- sort(intnode.times(tree), decreasing = T)\n",
    "    start <- min(x_times)\n",
    "    end <- max(x_times)\n",
    "    grid <- diff(range(x_times))\n",
    "    res <- bd.shifts.optim(x_times, c(rho, 1, 1), grid, start, end, posdiv = T)[[2]]\n",
    "\n",
    "    # Find likelihoods, lambda, mu, and rate-shift times\n",
    "    likelihoods <- sapply(res, function(x) x[1]) \n",
    "    \n",
    "    lambda0 <- res[[1]][3] / (1 - res[[1]][2])\n",
    "    mu0 <- lambda0 * res[[1]][2]\n",
    "   \n",
    "    # The following are also computed, but note that some of them are negative and that this might\n",
    "    # impede the tree simulation?\n",
    "    lambda11 <- res[[2]][3] / (1 - res[[2]][2])\n",
    "    mu11 <- lambda11 * res[[2]][2]\n",
    "    lambda12 <- res[[2]][5] / (1 - res[[2]][4])\n",
    "    mu12 <- lambda12 * res[[2]][4]\n",
    "    time1 <- res[[2]][length(res[[2]])]\n",
    "        \n",
    "    lambda21 <- res[[3]][3] / (1 - res[[3]][2])\n",
    "    mu21 <- lambda21 * res[[2]][2]\n",
    "    lambda22 <- res[[3]][5] / (1 - res[[3]][4])\n",
    "    mu22 <- lambda22 * res[[3]][4]\n",
    "    lambda23 <- res[[3]][7] / (1 - res[[3]][6])\n",
    "    mu23 <- lambda23 * res[[3]][6]\n",
    "    time2 <- res[[3]][(length(res[[3]]) - 2):length(res[[3]])]\n",
    "    \n",
    "    return(list(likelihoods, shifts0= c(lambda0, mu0), shifts1=c(lambda11, lambda12, mu11, mu12, time1), \n",
    "               shifts2=c(lambda21, lambda22, lambda23, mu21, mu22, mu23, time2)))\n",
    "}"
   ]
  },
  {
   "cell_type": "code",
   "execution_count": 4,
   "metadata": {
    "collapsed": false
   },
   "outputs": [],
   "source": [
    "\n",
    "cl <- makeCluster(4)\n",
    "registerDoParallel(cl)"
   ]
  },
  {
   "cell_type": "code",
   "execution_count": null,
   "metadata": {
    "collapsed": false
   },
   "outputs": [],
   "source": [
    "pvals <- vector()\n",
    "\n",
    "for(tr in 1:length(constant_rates_trees)){\n",
    "    x_times <- sort(intnode.times(constant_rates_trees[[tr]]), decreasing = T)\n",
    "    start <- min(x_times)\n",
    "    end <- max(x_times)\n",
    "    grid <- diff(range(x_times))\n",
    "    \n",
    "    reference_estimates <- fit_rate_shifts(constant_rates_trees[[tr]], 0.5)\n",
    "\n",
    "    sim_trees0 <- sim.bd.taxa(n = nspecies, numbsim = 100, lambda = reference_estimates$shifts0[1], \n",
    "                              mu = reference_estimates$shifts0[2], frac = 0.5, complete = F)\n",
    "    liks_sim_trees0 <- foreach(mt = sim_trees0, .packages = c('NELSI', 'TreePar')) %dopar% fit_rate_shifts(mt, 1)[[1]][1]\n",
    "    pvals[tr] <- sum(reference_estimates[[1]][1] > liks_sim_trees0)\n",
    "#    sim_trees1 <- sim.rateshift.taxa(nspecies, 10, lambda = reference_estimates$shifts1[1:2],\n",
    "#                mu = reference_estimates$shifts1[3:4], frac = c(rho, 1), times = c(0, reference_estimates$shifts1[5]),\n",
    "#                                     complete = F)\n",
    "    \n",
    "    \n",
    "}"
   ]
  },
  {
   "cell_type": "code",
   "execution_count": null,
   "metadata": {
    "collapsed": false
   },
   "outputs": [],
   "source": [
    "stopCluster(cl)"
   ]
  },
  {
   "cell_type": "code",
   "execution_count": null,
   "metadata": {
    "collapsed": false
   },
   "outputs": [],
   "source": [
    "pdf('pvals_constant_constant.pdf', useDingbats = F)\n",
    "hist(pvals)\n",
    "dev.off()"
   ]
  },
  {
   "cell_type": "code",
   "execution_count": null,
   "metadata": {
    "collapsed": false
   },
   "outputs": [],
   "source": [
    "hist(pvals)"
   ]
  },
  {
   "cell_type": "code",
   "execution_count": null,
   "metadata": {
    "collapsed": false
   },
   "outputs": [],
   "source": []
  },
  {
   "cell_type": "code",
   "execution_count": null,
   "metadata": {
    "collapsed": false
   },
   "outputs": [],
   "source": []
  },
  {
   "cell_type": "code",
   "execution_count": null,
   "metadata": {
    "collapsed": true
   },
   "outputs": [],
   "source": []
  },
  {
   "cell_type": "code",
   "execution_count": null,
   "metadata": {
    "collapsed": false
   },
   "outputs": [],
   "source": []
  },
  {
   "cell_type": "code",
   "execution_count": null,
   "metadata": {
    "collapsed": false
   },
   "outputs": [],
   "source": []
  },
  {
   "cell_type": "code",
   "execution_count": null,
   "metadata": {
    "collapsed": true
   },
   "outputs": [],
   "source": []
  },
  {
   "cell_type": "code",
   "execution_count": null,
   "metadata": {
    "collapsed": false
   },
   "outputs": [],
   "source": []
  },
  {
   "cell_type": "code",
   "execution_count": null,
   "metadata": {
    "collapsed": false
   },
   "outputs": [],
   "source": []
  },
  {
   "cell_type": "code",
   "execution_count": null,
   "metadata": {
    "collapsed": false
   },
   "outputs": [],
   "source": []
  },
  {
   "cell_type": "code",
   "execution_count": null,
   "metadata": {
    "collapsed": false
   },
   "outputs": [],
   "source": []
  },
  {
   "cell_type": "code",
   "execution_count": null,
   "metadata": {
    "collapsed": false
   },
   "outputs": [],
   "source": []
  },
  {
   "cell_type": "code",
   "execution_count": null,
   "metadata": {
    "collapsed": false
   },
   "outputs": [],
   "source": []
  },
  {
   "cell_type": "code",
   "execution_count": null,
   "metadata": {
    "collapsed": false
   },
   "outputs": [],
   "source": []
  },
  {
   "cell_type": "code",
   "execution_count": null,
   "metadata": {
    "collapsed": true
   },
   "outputs": [],
   "source": []
  }
 ],
 "metadata": {
  "kernelspec": {
   "display_name": "R",
   "language": "R",
   "name": "ir"
  },
  "language_info": {
   "codemirror_mode": "r",
   "file_extension": ".r",
   "mimetype": "text/x-r-source",
   "name": "R",
   "pygments_lexer": "r",
   "version": "3.2.2"
  }
 },
 "nbformat": 4,
 "nbformat_minor": 0
}
