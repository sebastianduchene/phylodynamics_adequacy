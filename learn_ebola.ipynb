{
 "cells": [
  {
   "cell_type": "code",
   "execution_count": 7,
   "metadata": {
    "collapsed": false
   },
   "outputs": [],
   "source": [
    "library(NELSI)\n",
    "library(TreeSim)\n",
    "library(TreePar)\n",
    "source('02-Ebola-Functions.R')"
   ]
  },
  {
   "cell_type": "code",
   "execution_count": 4,
   "metadata": {
    "collapsed": true
   },
   "outputs": [],
   "source": [
    "trees <- read.tree('02-EbolaTrees.trees')"
   ]
  },
  {
   "cell_type": "code",
   "execution_count": 5,
   "metadata": {
    "collapsed": true
   },
   "outputs": [],
   "source": [
    "# Skyline\n",
    "# estimate death rate:\n",
    "deathfix <- 0\n",
    "sprobc <- 0.7\n",
    "# 3 Re intervals\n",
    "numbRe <- 3"
   ]
  },
  {
   "cell_type": "code",
   "execution_count": 6,
   "metadata": {
    "collapsed": true
   },
   "outputs": [],
   "source": [
    "# Calculate likelihood for first 5 trees\n",
    "numbTree <- 4"
   ]
  },
  {
   "cell_type": "code",
   "execution_count": 23,
   "metadata": {
    "collapsed": true
   },
   "outputs": [],
   "source": [
    "likdiff <- vector()\n",
    "estimates <- c()\n",
    "for(index in 1:numbTree){\n",
    "    test <- trees[[index]]\n",
    "    droptip<-c(\"EBOV|KM034550|EM095|SierraLeone_EM|2014-05-25\",\"EBOV|KM034554|G3676|SierraLeone_G|2014-05-27\",\"EBOV|KM034559|G3680|SierraLeone_G|2014-05-28\",\"EBOV|KM034563|G3687|SierraLeone_G|2014-05-28\",\"EBOV|KM034561|G3683|SierraLeone_G|2014-05-28\",\"EBOV|KM034562|G3686|SierraLeone_G|2014-05-28\")\n",
    "    test<-drop.tip(test,droptip)\n",
    "    rootheight<-max(getx(test,sersampling=1)[,1])\n",
    "    x<-getx(test,sersampling=1)\n",
    "    times<-x[,1]\n",
    "    ttype<-x[,2]\n",
    "    \n",
    "    if (numbRe == 1){\n",
    "        out <- optim(c(2, 1, 0.7), LikShiftsSTTebolaConst, times = times, \n",
    "                    ttype =ttype, sprobc = sprobc, \n",
    "                    deathfix =deathfix, cutoff = 0)\n",
    "    }else{\n",
    "       out<-optim(c(rep(2,numbRe),1,0.7),LikShiftsSTTebola,\n",
    "                  times=times,ttype=ttype,sprobc=sprobc,\n",
    "                  deathfix=deathfix,cutoff=0)\n",
    "    }\n",
    "    estimates <- rbind(estimates, parepi(out, sprobc=sprobc, \n",
    "                                        deathfix=deathfix))\n",
    "}"
   ]
  },
  {
   "cell_type": "code",
   "execution_count": 31,
   "metadata": {
    "collapsed": false
   },
   "outputs": [
    {
     "data": {
      "text/html": [
       "<table>\n",
       "<tbody>\n",
       "\t<tr><td>1.7939327</td><td>1.3311000</td><td>0.6782099</td><td>4.2882630</td><td>0.7000000</td></tr>\n",
       "\t<tr><td>1.854099</td><td>1.871515</td><td>1.628523</td><td>6.973842</td><td>0.700000</td></tr>\n",
       "\t<tr><td>1.5267441</td><td>0.7939055</td><td>1.0804592</td><td>3.2563608</td><td>0.7000000</td></tr>\n",
       "\t<tr><td>1.5858334</td><td>2.0635427</td><td>0.5375628</td><td>6.4930770</td><td>0.7000000</td></tr>\n",
       "</tbody>\n",
       "</table>\n"
      ],
      "text/latex": [
       "\\begin{tabular}{lllll}\n",
       "\t 1.7939327 & 1.3311000 & 0.6782099 & 4.2882630 & 0.7000000\\\\\n",
       "\t 1.854099 & 1.871515 & 1.628523 & 6.973842 & 0.700000\\\\\n",
       "\t 1.5267441 & 0.7939055 & 1.0804592 & 3.2563608 & 0.7000000\\\\\n",
       "\t 1.5858334 & 2.0635427 & 0.5375628 & 6.4930770 & 0.7000000\\\\\n",
       "\\end{tabular}\n"
      ],
      "text/markdown": [
       "1. 1.79393268470941\n",
       "2. 1.85409889227482\n",
       "3. 1.52674412286179\n",
       "4. 1.5858333820696\n",
       "5. 1.33109995698754\n",
       "6. 1.87151464582044\n",
       "7. 0.793905465204858\n",
       "8. 2.06354268464235\n",
       "9. 0.678209939261213\n",
       "10. 1.62852307030335\n",
       "11. 1.08045921161649\n",
       "12. 0.53756284336606\n",
       "13. 4.28826295848087\n",
       "14. 6.97384242818966\n",
       "15. 3.25636081268837\n",
       "16. 6.49307695424995\n",
       "17. 0.7\n",
       "18. 0.7\n",
       "19. 0.7\n",
       "20. 0.7\n",
       "\n",
       "\n"
      ],
      "text/plain": [
       "         [,1]      [,2]      [,3]     [,4] [,5]\n",
       "[1,] 1.793933 1.3311000 0.6782099 4.288263  0.7\n",
       "[2,] 1.854099 1.8715146 1.6285231 6.973842  0.7\n",
       "[3,] 1.526744 0.7939055 1.0804592 3.256361  0.7\n",
       "[4,] 1.585833 2.0635427 0.5375628 6.493077  0.7"
      ]
     },
     "execution_count": 31,
     "metadata": {},
     "output_type": "execute_result"
    }
   ],
   "source": [
    "estimates"
   ]
  },
  {
   "cell_type": "code",
   "execution_count": 32,
   "metadata": {
    "collapsed": false
   },
   "outputs": [],
   "source": [
    "estimatesraw<-estimates\n",
    "\n",
    "estimatesmedian<-vector()\n",
    "estimatesHPD<-vector()\n",
    "estimatesmean<-vector()\n",
    "estimatesvar<-vector()\n",
    "for (i in 1:length(estimates[1,])){\n",
    "    estimatesmedian<-c(estimatesmedian,median(estimates[,i]))\n",
    "    estimatesHPD<-cbind(estimatesHPD,HPD(estimates[,i]))\n",
    "    estimatesmean<-c(estimatesmean,mean(estimates[,i]))\n",
    "    estimatesvar<-c(estimatesvar,var(estimates[,i]))\n",
    "}"
   ]
  },
  {
   "cell_type": "code",
   "execution_count": 33,
   "metadata": {
    "collapsed": false
   },
   "outputs": [
    {
     "name": "stdout",
     "output_type": "stream",
     "text": [
      "         R1   R2   R3 rateUninf sampProb\n",
      "median 1.69 1.60 0.88      5.39      0.7\n",
      "95low  1.53 1.33 0.54      4.29      0.7\n",
      "95up   1.79 2.06 1.08      6.97      0.7\n",
      "mean   1.69 1.52 0.98      5.25      0.7\n",
      "var    0.03 0.33 0.24      3.14      0.0\n",
      "1      1.79 1.33 0.68      4.29      0.7\n",
      "2      1.85 1.87 1.63      6.97      0.7\n",
      "3      1.53 0.79 1.08      3.26      0.7\n",
      "4      1.59 2.06 0.54      6.49      0.7\n"
     ]
    }
   ],
   "source": [
    "estimates<-round(rbind(estimatesmedian,estimatesHPD,estimatesmean,estimatesvar,estimatesraw),2)\n",
    "colnames(estimates)<-c(\"R1\",\"R2\",\"R3\",\"rateUninf\",\"sampProb\")\n",
    "rownames(estimates)<-c(\"median\",\"95low\",\"95up\",\"mean\",\"var\",1:numbTree)\n",
    "print(estimates)"
   ]
  },
  {
   "cell_type": "code",
   "execution_count": null,
   "metadata": {
    "collapsed": false
   },
   "outputs": [],
   "source": []
  },
  {
   "cell_type": "code",
   "execution_count": null,
   "metadata": {
    "collapsed": true
   },
   "outputs": [],
   "source": []
  }
 ],
 "metadata": {
  "kernelspec": {
   "display_name": "R",
   "language": "R",
   "name": "ir"
  },
  "language_info": {
   "codemirror_mode": "r",
   "file_extension": ".r",
   "mimetype": "text/x-r-source",
   "name": "R",
   "pygments_lexer": "r",
   "version": "3.2.2"
  }
 },
 "nbformat": 4,
 "nbformat_minor": 0
}
